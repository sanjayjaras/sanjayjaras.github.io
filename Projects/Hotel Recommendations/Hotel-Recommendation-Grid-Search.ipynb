{
 "cells": [
  {
   "cell_type": "markdown",
   "metadata": {},
   "source": [
    "## Import Libraries"
   ]
  },
  {
   "cell_type": "code",
   "execution_count": 1,
   "metadata": {},
   "outputs": [],
   "source": [
    "import pandas as pd\n",
    "import numpy as np\n",
    "import seaborn as sns\n",
    "import vaex as vx\n",
    "import matplotlib.pyplot as plt\n",
    "import math\n",
    "import sklearn\n",
    "from vaex import ml\n",
    "from sklearn.model_selection import GridSearchCV\n",
    "from sklearn.cluster import MiniBatchKMeans\n",
    "from sklearn.feature_selection import SelectKBest\n",
    "from sklearn.feature_selection import chi2\n",
    "from tqdm import tqdm\n",
    "from sklearn.model_selection import train_test_split\n",
    "from sklearn.model_selection import RepeatedStratifiedKFold\n",
    "from sklearn.ensemble._bagging import BaggingClassifier\n",
    "from sklearn.tree._classes import DecisionTreeClassifier\n",
    "from sklearn.ensemble._forest import ExtraTreesClassifier\n",
    "from sklearn.ensemble._forest import RandomForestClassifier\n",
    "\n",
    "plt.style.use('fivethirtyeight') # For better style\n",
    "random_state = 17"
   ]
  },
  {
   "cell_type": "markdown",
   "metadata": {},
   "source": [
    "### Load training set"
   ]
  },
  {
   "cell_type": "code",
   "execution_count": 2,
   "metadata": {},
   "outputs": [
    {
     "name": "stdout",
     "output_type": "stream",
     "text": [
      "CPU times: user 6.67 ms, sys: 1e+03 ns, total: 6.67 ms\n",
      "Wall time: 8.99 ms\n"
     ]
    }
   ],
   "source": [
    "%%time\n",
    "final_train_data = vx.open(\"final-train-dataset.hdf5\")"
   ]
  },
  {
   "cell_type": "code",
   "execution_count": 3,
   "metadata": {},
   "outputs": [
    {
     "data": {
      "text/html": [
       "<table>\n",
       "<thead>\n",
       "<tr><th>#                            </th><th style=\"text-align: right;\">  scaled_site_name</th><th style=\"text-align: right;\">  scaled_posa_continent</th><th style=\"text-align: right;\">  scaled_user_location_country</th><th style=\"text-align: right;\">  scaled_user_location_region</th><th style=\"text-align: right;\">  scaled_user_location_city</th><th style=\"text-align: right;\">  scaled_user_id</th><th style=\"text-align: right;\">  scaled_is_package</th><th style=\"text-align: right;\">  scaled_channel</th><th style=\"text-align: right;\">  scaled_srch_children_cnt</th><th style=\"text-align: right;\">  scaled_srch_destination_id</th><th style=\"text-align: right;\">  scaled_srch_destination_type_id</th><th style=\"text-align: right;\">  scaled_is_booking</th><th style=\"text-align: right;\">  scaled_cnt</th><th style=\"text-align: right;\">  scaled_hotel_continent</th><th style=\"text-align: right;\">  scaled_hotel_country</th><th style=\"text-align: right;\">  scaled_hotel_market</th><th style=\"text-align: right;\">  scaled_review_cluster</th><th style=\"text-align: right;\">  scaled_days</th><th style=\"text-align: right;\">  scaled_ev_month</th><th style=\"text-align: right;\">  scaled_ev_hour</th><th style=\"text-align: right;\">  hotel_cluster</th></tr>\n",
       "</thead>\n",
       "<tbody>\n",
       "<tr><td><i style='opacity: 0.6'>0</i></td><td style=\"text-align: right;\">           2.26975</td><td style=\"text-align: right;\">               -2.24274</td><td style=\"text-align: right;\">                     -0.287829</td><td style=\"text-align: right;\">                      1.83644</td><td style=\"text-align: right;\">                  -0.483952</td><td style=\"text-align: right;\">        -1.03992</td><td style=\"text-align: right;\">            1.75354</td><td style=\"text-align: right;\">        0.841894</td><td style=\"text-align: right;\">                  0.912957</td><td style=\"text-align: right;\">                   -0.495056</td><td style=\"text-align: right;\">                        -0.736419</td><td style=\"text-align: right;\">           -0.29565</td><td style=\"text-align: right;\">    0.422329</td><td style=\"text-align: right;\">                0.519276</td><td style=\"text-align: right;\">             -0.521026</td><td style=\"text-align: right;\">            -0.779365</td><td style=\"text-align: right;\">              0.0450958</td><td style=\"text-align: right;\">      2.82355</td><td style=\"text-align: right;\">          1.17975</td><td style=\"text-align: right;\">         0.95445</td><td style=\"text-align: right;\">             26</td></tr>\n",
       "<tr><td><i style='opacity: 0.6'>1</i></td><td style=\"text-align: right;\">           2.26975</td><td style=\"text-align: right;\">               -2.24274</td><td style=\"text-align: right;\">                     -0.287829</td><td style=\"text-align: right;\">                      1.83644</td><td style=\"text-align: right;\">                  -0.483952</td><td style=\"text-align: right;\">        -1.03992</td><td style=\"text-align: right;\">            1.75354</td><td style=\"text-align: right;\">        0.841894</td><td style=\"text-align: right;\">                  0.912957</td><td style=\"text-align: right;\">                   -0.495056</td><td style=\"text-align: right;\">                        -0.736419</td><td style=\"text-align: right;\">           -0.29565</td><td style=\"text-align: right;\">    1.24154 </td><td style=\"text-align: right;\">                0.519276</td><td style=\"text-align: right;\">             -0.521026</td><td style=\"text-align: right;\">            -0.779365</td><td style=\"text-align: right;\">              0.0450958</td><td style=\"text-align: right;\">      2.82355</td><td style=\"text-align: right;\">          1.17975</td><td style=\"text-align: right;\">         1.13103</td><td style=\"text-align: right;\">             26</td></tr>\n",
       "<tr><td><i style='opacity: 0.6'>2</i></td><td style=\"text-align: right;\">           2.26975</td><td style=\"text-align: right;\">               -2.24274</td><td style=\"text-align: right;\">                     -0.287829</td><td style=\"text-align: right;\">                      1.83644</td><td style=\"text-align: right;\">                  -0.483952</td><td style=\"text-align: right;\">        -1.03992</td><td style=\"text-align: right;\">            1.75354</td><td style=\"text-align: right;\">        0.841894</td><td style=\"text-align: right;\">                  0.912957</td><td style=\"text-align: right;\">                   -0.495056</td><td style=\"text-align: right;\">                        -0.736419</td><td style=\"text-align: right;\">           -0.29565</td><td style=\"text-align: right;\">    1.24154 </td><td style=\"text-align: right;\">                0.519276</td><td style=\"text-align: right;\">             -0.521026</td><td style=\"text-align: right;\">            -0.779365</td><td style=\"text-align: right;\">              0.0450958</td><td style=\"text-align: right;\">      2.82355</td><td style=\"text-align: right;\">          1.17975</td><td style=\"text-align: right;\">         1.13103</td><td style=\"text-align: right;\">              0</td></tr>\n",
       "<tr><td><i style='opacity: 0.6'>3</i></td><td style=\"text-align: right;\">           2.26975</td><td style=\"text-align: right;\">               -2.24274</td><td style=\"text-align: right;\">                     -0.287829</td><td style=\"text-align: right;\">                      1.83644</td><td style=\"text-align: right;\">                  -0.483952</td><td style=\"text-align: right;\">        -1.03992</td><td style=\"text-align: right;\">            1.75354</td><td style=\"text-align: right;\">        0.841894</td><td style=\"text-align: right;\">                  0.912957</td><td style=\"text-align: right;\">                   -0.495056</td><td style=\"text-align: right;\">                        -0.736419</td><td style=\"text-align: right;\">           -0.29565</td><td style=\"text-align: right;\">   -0.396877</td><td style=\"text-align: right;\">                0.519276</td><td style=\"text-align: right;\">             -0.521026</td><td style=\"text-align: right;\">            -0.779365</td><td style=\"text-align: right;\">              0.0450958</td><td style=\"text-align: right;\">      2.82355</td><td style=\"text-align: right;\">          1.17975</td><td style=\"text-align: right;\">         1.13103</td><td style=\"text-align: right;\">             90</td></tr>\n",
       "<tr><td><i style='opacity: 0.6'>4</i></td><td style=\"text-align: right;\">           2.26975</td><td style=\"text-align: right;\">               -2.24274</td><td style=\"text-align: right;\">                     -0.287829</td><td style=\"text-align: right;\">                      1.83644</td><td style=\"text-align: right;\">                  -0.483952</td><td style=\"text-align: right;\">        -1.03992</td><td style=\"text-align: right;\">            1.75354</td><td style=\"text-align: right;\">       -1.5801  </td><td style=\"text-align: right;\">                  0.912957</td><td style=\"text-align: right;\">                   -0.495056</td><td style=\"text-align: right;\">                        -0.736419</td><td style=\"text-align: right;\">           -0.29565</td><td style=\"text-align: right;\">   -0.396877</td><td style=\"text-align: right;\">                0.519276</td><td style=\"text-align: right;\">             -0.521026</td><td style=\"text-align: right;\">            -0.779365</td><td style=\"text-align: right;\">              0.0450958</td><td style=\"text-align: right;\">      2.82355</td><td style=\"text-align: right;\">          1.17975</td><td style=\"text-align: right;\">         1.30761</td><td style=\"text-align: right;\">             26</td></tr>\n",
       "</tbody>\n",
       "</table>"
      ],
      "text/plain": [
       "  #    scaled_site_name    scaled_posa_continent    scaled_user_location_country    scaled_user_location_region    scaled_user_location_city    scaled_user_id    scaled_is_package    scaled_channel    scaled_srch_children_cnt    scaled_srch_destination_id    scaled_srch_destination_type_id    scaled_is_booking    scaled_cnt    scaled_hotel_continent    scaled_hotel_country    scaled_hotel_market    scaled_review_cluster    scaled_days    scaled_ev_month    scaled_ev_hour    hotel_cluster\n",
       "  0             2.26975                 -2.24274                       -0.287829                        1.83644                    -0.483952          -1.03992              1.75354          0.841894                    0.912957                     -0.495056                          -0.736419             -0.29565      0.422329                  0.519276               -0.521026              -0.779365                0.0450958        2.82355            1.17975           0.95445               26\n",
       "  1             2.26975                 -2.24274                       -0.287829                        1.83644                    -0.483952          -1.03992              1.75354          0.841894                    0.912957                     -0.495056                          -0.736419             -0.29565      1.24154                   0.519276               -0.521026              -0.779365                0.0450958        2.82355            1.17975           1.13103               26\n",
       "  2             2.26975                 -2.24274                       -0.287829                        1.83644                    -0.483952          -1.03992              1.75354          0.841894                    0.912957                     -0.495056                          -0.736419             -0.29565      1.24154                   0.519276               -0.521026              -0.779365                0.0450958        2.82355            1.17975           1.13103                0\n",
       "  3             2.26975                 -2.24274                       -0.287829                        1.83644                    -0.483952          -1.03992              1.75354          0.841894                    0.912957                     -0.495056                          -0.736419             -0.29565     -0.396877                  0.519276               -0.521026              -0.779365                0.0450958        2.82355            1.17975           1.13103               90\n",
       "  4             2.26975                 -2.24274                       -0.287829                        1.83644                    -0.483952          -1.03992              1.75354         -1.5801                      0.912957                     -0.495056                          -0.736419             -0.29565     -0.396877                  0.519276               -0.521026              -0.779365                0.0450958        2.82355            1.17975           1.30761               26"
      ]
     },
     "execution_count": 3,
     "metadata": {},
     "output_type": "execute_result"
    }
   ],
   "source": [
    "final_train_data.head(5)"
   ]
  },
  {
   "cell_type": "markdown",
   "metadata": {},
   "source": [
    "## Split dataset for Grid Search"
   ]
  },
  {
   "cell_type": "code",
   "execution_count": 4,
   "metadata": {},
   "outputs": [
    {
     "data": {
      "text/plain": [
       "(10422, 21)"
      ]
     },
     "execution_count": 4,
     "metadata": {},
     "output_type": "execute_result"
    }
   ],
   "source": [
    "target_variable = \"hotel_cluster\"\n",
    "features = [col for col in final_train_data.column_names if col != target_variable]\n",
    "first_sample, rest_data = final_train_data.ml.train_test_split(test_size=0.9996)\n",
    "first_sample.shape\n",
    "#train_data_X = final_train_data[features].values\n",
    "#train_data_Y = final_train_data[target_variable].values"
   ]
  },
  {
   "cell_type": "code",
   "execution_count": 5,
   "metadata": {},
   "outputs": [],
   "source": [
    "part_train_X = first_sample[features].values\n",
    "part_train_Y = first_sample[target_variable].values\n",
    "                                                                          "
   ]
  },
  {
   "cell_type": "markdown",
   "metadata": {},
   "source": [
    "### Let's take some records to find best model"
   ]
  },
  {
   "cell_type": "code",
   "execution_count": 6,
   "metadata": {},
   "outputs": [
    {
     "name": "stderr",
     "output_type": "stream",
     "text": [
      "  0%|          | 0/4 [00:00<?, ?it/s]Evaluating Model BaggingClassifier(n_jobs=15, random_state=17, warm_start=True)\n",
      "Fitting 30 folds for each of 3 candidates, totalling 90 fits\n",
      "[Parallel(n_jobs=15)]: Using backend LokyBackend with 15 concurrent workers.\n",
      "[Parallel(n_jobs=15)]: Done  20 tasks      | elapsed:    2.0s\n",
      "[Parallel(n_jobs=15)]: Done  90 out of  90 | elapsed:   22.4s finished\n",
      " 25%|██▌       | 1/4 [00:23<01:11, 23.71s/it][Parallel(n_jobs=15)]: Using backend LokyBackend with 15 concurrent workers.\n",
      "[Parallel(n_jobs=15)]: Done  20 tasks      | elapsed:    0.2s\n",
      "Evaluating Model DecisionTreeClassifier(random_state=17)\n",
      "Fitting 30 folds for each of 12 candidates, totalling 360 fits\n",
      "[Parallel(n_jobs=15)]: Done 331 out of 360 | elapsed:    1.8s remaining:    0.2s\n",
      "[Parallel(n_jobs=15)]: Done 360 out of 360 | elapsed:    2.1s finished\n",
      " 50%|█████     | 2/4 [00:25<00:22, 11.05s/it][Parallel(n_jobs=15)]: Using backend LokyBackend with 15 concurrent workers.\n",
      "Evaluating Model ExtraTreesClassifier(n_jobs=15, random_state=17, warm_start=True)\n",
      "Fitting 30 folds for each of 18 candidates, totalling 540 fits\n",
      "[Parallel(n_jobs=15)]: Done  20 tasks      | elapsed:    1.5s\n",
      "[Parallel(n_jobs=15)]: Done 170 tasks      | elapsed:   48.1s\n",
      "[Parallel(n_jobs=15)]: Done 420 tasks      | elapsed:  2.1min\n",
      "[Parallel(n_jobs=15)]: Done 540 out of 540 | elapsed:  3.1min finished\n",
      " 75%|███████▌  | 3/4 [03:32<01:31, 91.02s/it][Parallel(n_jobs=15)]: Using backend LokyBackend with 15 concurrent workers.\n",
      "Evaluating Model RandomForestClassifier(n_jobs=15, random_state=17, warm_start=True)\n",
      "Fitting 30 folds for each of 6 candidates, totalling 180 fits\n",
      "[Parallel(n_jobs=15)]: Done  20 tasks      | elapsed:    4.4s\n",
      "[Parallel(n_jobs=15)]: Done 180 out of 180 | elapsed:  1.2min finished\n",
      "100%|██████████| 4/4 [04:47<00:00, 71.78s/it]\n"
     ]
    }
   ],
   "source": [
    "cv = RepeatedStratifiedKFold(n_splits=10, n_repeats=3, random_state=random_state)\n",
    "\n",
    "clfs = [\n",
    "    BaggingClassifier(n_jobs=15, random_state=random_state, warm_start=True),\n",
    "    DecisionTreeClassifier(random_state=random_state),\n",
    "    ExtraTreesClassifier(n_jobs=15, random_state=random_state, warm_start=True),\n",
    "    RandomForestClassifier(n_jobs=15, random_state=random_state, warm_start=True),\n",
    "]\n",
    "params = [\n",
    "    {\"n_estimators\":[10, 50, 100], },\n",
    "    {\"criterion\":[\"gini\", \"entropy\"], \"splitter\":[\"best\", \"random\"], \"max_depth\":[10, 100, None] },\n",
    "    {\"n_estimators\":[100, 200, 300], \"criterion\":[\"gini\", \"entropy\"], \"max_depth\":[10, 100, None]},\n",
    "    {\"n_estimators\":[100, 200, 300], \"criterion\":[\"gini\", \"entropy\"],},\n",
    "\n",
    "]\n",
    "scores = []\n",
    "for i in tqdm(range(len(clfs))):\n",
    "    try:\n",
    "        clf = clfs[i]\n",
    "        print(\"Evaluating Model\", clf)\n",
    "        grid_clf = GridSearchCV(clf,param_grid=params[i], cv=cv, verbose=1, n_jobs=15)\n",
    "        #for \n",
    "        grid_clf.fit(part_train_X, part_train_Y)\n",
    "        scores.append((clf, grid_clf.best_score_, grid_clf.best_params_))\n",
    "    except Exception as e:\n",
    "        print(\"Unable to execute \", clf, e)"
   ]
  },
  {
   "cell_type": "code",
   "execution_count": 7,
   "metadata": {},
   "outputs": [
    {
     "name": "stdout",
     "output_type": "stream",
     "text": [
      "             BaggingClassifier:\t0.30 \t {'n_estimators': 100}\n",
      "        DecisionTreeClassifier:\t0.28 \t {'criterion': 'entropy', 'max_depth': 100, 'splitter': 'best'}\n",
      "          ExtraTreesClassifier:\t0.30 \t {'criterion': 'entropy', 'max_depth': 10, 'n_estimators': 100}\n",
      "        RandomForestClassifier:\t0.30 \t {'criterion': 'entropy', 'n_estimators': 200}\n"
     ]
    }
   ],
   "source": [
    "for name, score, params in scores:\n",
    "    nm = name.__class__.__name__\n",
    "    print(\"%s:\\t%0.2f \\t %s\" % (nm.rjust(30, ' '), score, params))"
   ]
  }
 ],
 "metadata": {
  "kernelspec": {
   "display_name": "Python 3",
   "language": "python",
   "name": "python3"
  },
  "language_info": {
   "codemirror_mode": {
    "name": "ipython",
    "version": 3
   },
   "file_extension": ".py",
   "mimetype": "text/x-python",
   "name": "python",
   "nbconvert_exporter": "python",
   "pygments_lexer": "ipython3",
   "version": "3.8.5"
  }
 },
 "nbformat": 4,
 "nbformat_minor": 4
}
